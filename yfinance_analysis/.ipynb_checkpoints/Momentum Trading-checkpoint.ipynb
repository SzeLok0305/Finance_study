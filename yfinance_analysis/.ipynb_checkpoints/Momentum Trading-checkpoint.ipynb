{
 "cells": [
  {
   "cell_type": "code",
   "execution_count": 3,
   "id": "ced586c2-98c0-4ec1-9b16-c2d5c5ae4cc5",
   "metadata": {},
   "outputs": [],
   "source": [
    "import yfinance as yf\n",
    "#Remove suvival bias is important!!!\n",
    "import numpy as np\n",
    "import pandas as pd\n",
    "\n",
    "start = \"2019-01-01\"\n",
    "overall = pd.read_html(\"https://en.wikipedia.org/wiki/List_of_S%26P_500_companies\")[0] # The table"
   ]
  },
  {
   "cell_type": "code",
   "execution_count": 9,
   "id": "7effb3e6-5e7c-48fa-be64-95c50cf21ffa",
   "metadata": {},
   "outputs": [],
   "source": [
    "stocks = overall.Symbol\n",
    "stocks = stocks.to_list()\n",
    "overall = overall[overall[\"Date added\"] >= start]"
   ]
  },
  {
   "cell_type": "code",
   "execution_count": 13,
   "id": "516debfe-8950-41c6-a057-7583f39a1063",
   "metadata": {},
   "outputs": [
    {
     "data": {
      "text/html": [
       "<div>\n",
       "<style scoped>\n",
       "    .dataframe tbody tr th:only-of-type {\n",
       "        vertical-align: middle;\n",
       "    }\n",
       "\n",
       "    .dataframe tbody tr th {\n",
       "        vertical-align: top;\n",
       "    }\n",
       "\n",
       "    .dataframe thead th {\n",
       "        text-align: right;\n",
       "    }\n",
       "</style>\n",
       "<table border=\"1\" class=\"dataframe\">\n",
       "  <thead>\n",
       "    <tr style=\"text-align: right;\">\n",
       "      <th></th>\n",
       "      <th>Ticker</th>\n",
       "      <th>Security</th>\n",
       "    </tr>\n",
       "    <tr>\n",
       "      <th>Date</th>\n",
       "      <th></th>\n",
       "      <th></th>\n",
       "    </tr>\n",
       "  </thead>\n",
       "  <tbody>\n",
       "    <tr>\n",
       "      <th>2024-06-24</th>\n",
       "      <td>RHI</td>\n",
       "      <td>Robert Half</td>\n",
       "    </tr>\n",
       "    <tr>\n",
       "      <th>2024-06-24</th>\n",
       "      <td>CMA</td>\n",
       "      <td>Comerica</td>\n",
       "    </tr>\n",
       "    <tr>\n",
       "      <th>2024-06-24</th>\n",
       "      <td>ILMN</td>\n",
       "      <td>Illumina, Inc.</td>\n",
       "    </tr>\n",
       "    <tr>\n",
       "      <th>2024-05-08</th>\n",
       "      <td>PXD</td>\n",
       "      <td>Pioneer Natural Resources</td>\n",
       "    </tr>\n",
       "    <tr>\n",
       "      <th>2024-04-03</th>\n",
       "      <td>XRAY</td>\n",
       "      <td>Dentsply Sirona</td>\n",
       "    </tr>\n",
       "    <tr>\n",
       "      <th>...</th>\n",
       "      <td>...</td>\n",
       "      <td>...</td>\n",
       "    </tr>\n",
       "    <tr>\n",
       "      <th>2019-04-02</th>\n",
       "      <td>BHF</td>\n",
       "      <td>Brighthouse Financial</td>\n",
       "    </tr>\n",
       "    <tr>\n",
       "      <th>2019-02-27</th>\n",
       "      <td>GT</td>\n",
       "      <td>The Goodyear Tire &amp; Rubber Company</td>\n",
       "    </tr>\n",
       "    <tr>\n",
       "      <th>2019-02-15</th>\n",
       "      <td>NFX</td>\n",
       "      <td>Newfield Exploration</td>\n",
       "    </tr>\n",
       "    <tr>\n",
       "      <th>2019-01-18</th>\n",
       "      <td>PCG</td>\n",
       "      <td>Pacific Gas &amp; Electric Company</td>\n",
       "    </tr>\n",
       "    <tr>\n",
       "      <th>2019-01-02</th>\n",
       "      <td>SCG</td>\n",
       "      <td>SCANA</td>\n",
       "    </tr>\n",
       "  </tbody>\n",
       "</table>\n",
       "<p>98 rows × 2 columns</p>\n",
       "</div>"
      ],
      "text/plain": [
       "           Ticker                            Security\n",
       "Date                                                 \n",
       "2024-06-24    RHI                         Robert Half\n",
       "2024-06-24    CMA                            Comerica\n",
       "2024-06-24   ILMN                      Illumina, Inc.\n",
       "2024-05-08    PXD           Pioneer Natural Resources\n",
       "2024-04-03   XRAY                     Dentsply Sirona\n",
       "...           ...                                 ...\n",
       "2019-04-02    BHF               Brighthouse Financial\n",
       "2019-02-27     GT  The Goodyear Tire & Rubber Company\n",
       "2019-02-15    NFX                Newfield Exploration\n",
       "2019-01-18    PCG      Pacific Gas & Electric Company\n",
       "2019-01-02    SCG                               SCANA\n",
       "\n",
       "[98 rows x 2 columns]"
      ]
     },
     "execution_count": 13,
     "metadata": {},
     "output_type": "execute_result"
    }
   ],
   "source": [
    "removed = pd.read_html(\"https://en.wikipedia.org/wiki/List_of_S%26P_500_companies\")[1][[\"Date\",\"Removed\"]] #Download data\n",
    "removed = removed.set_index(removed.Date.Date) #Set index as date\n",
    "removed.index = pd.to_datetime(removed.index) #Change formal to match\n",
    "removed = removed[removed.index >= start] #Only get the relavent data after start\n",
    "removed = removed.Removed.dropna() #drop nan"
   ]
  },
  {
   "cell_type": "code",
   "execution_count": 15,
   "id": "e9c6ab43-6925-4051-b533-18e130e5f734",
   "metadata": {},
   "outputs": [],
   "source": [
    "stocks.extend(removed.Ticker.to_list()) #add removed ticker "
   ]
  },
  {
   "cell_type": "code",
   "execution_count": 17,
   "id": "1cf6a5a5-c7ec-4ec3-ae47-a23a76f279a9",
   "metadata": {},
   "outputs": [
    {
     "name": "stderr",
     "output_type": "stream",
     "text": [
      "[****                   9%%                      ]  55 of 600 completed"
     ]
    },
    {
     "name": "stdout",
     "output_type": "stream",
     "text": [
      "$SCG: possibly delisted; No price data found  (1d 2019-01-01 -> 2024-08-29)\n"
     ]
    },
    {
     "name": "stderr",
     "output_type": "stream",
     "text": [
      "[**********************50%%                      ]  303 of 600 completed"
     ]
    },
    {
     "name": "stdout",
     "output_type": "stream",
     "text": [
      "$BF.B: possibly delisted; No price data found  (1d 2019-01-01 -> 2024-08-29)\n"
     ]
    },
    {
     "name": "stderr",
     "output_type": "stream",
     "text": [
      "[*********************100%%**********************]  600 of 600 completed\n",
      "\n",
      "41 Failed downloads:\n",
      "['CELG', 'XEC', 'WCG', 'ARNC', 'BRK.B', 'ADS', 'CXO', 'INFO', 'ETFC', 'PBCT', 'FLIR', 'LLL', 'DRE', 'DISH', 'APC', 'FBHS', 'MXIM', 'CTXS', 'NBL', 'CERN', 'XLNX', 'KSU', 'FRC', 'ABMD', 'RTN', 'TWTR', 'TIF', 'HFC', 'VAR', 'VIAB', 'AGN', 'ALXN', 'ATVI', 'RHT', 'DWDP', 'NLSN', 'PXD', 'TSS']: YFTzMissingError('$%ticker%: possibly delisted; No timezone found')\n",
      "['SCG', 'BF.B']: YFPricesMissingError('$%ticker%: possibly delisted; No price data found  (1d 2019-01-01 -> 2024-08-29)')\n",
      "['SIVB']: YFInvalidPeriodError(\"%ticker%: Period 'max' is invalid, must be one of ['1d', '5d']\")\n"
     ]
    }
   ],
   "source": [
    "df = yf.download(stocks,start=start)[\"Close\"]"
   ]
  },
  {
   "cell_type": "code",
   "execution_count": 21,
   "id": "d0a30c1f-6d92-40b5-80ac-85f5f82db57e",
   "metadata": {},
   "outputs": [],
   "source": [
    "df.index = pd.to_datetime(df.index)"
   ]
  },
  {
   "cell_type": "code",
   "execution_count": 23,
   "id": "20935a02-3d8d-4526-8216-6b73110485af",
   "metadata": {},
   "outputs": [],
   "source": [
    "def pricefilter_rem(ticker):\n",
    "    df[ticker] = df[ticker][df[ticker].index <= removed[removed.Ticker == ticker].index[0]]\n",
    "\n",
    "def pricefilter_add(ticker):\n",
    "    df[ticker] = df[ticker][df[ticker].index >= overall[overall.Symbol == ticker][\"Date added\"].values[0]]"
   ]
  },
  {
   "cell_type": "code",
   "execution_count": 25,
   "id": "f75e4e05-780c-479b-b99c-ac47bdfa2163",
   "metadata": {},
   "outputs": [],
   "source": [
    "for ticker_rem in removed.Ticker:\n",
    "    pricefilter_rem(ticker_rem)\n",
    "for ticker_add in overall.Symbol:\n",
    "    pricefilter_add(ticker_add)"
   ]
  },
  {
   "cell_type": "code",
   "execution_count": 27,
   "id": "9ca633c3-91a0-4ca7-9dfb-5c27607869c2",
   "metadata": {},
   "outputs": [
    {
     "data": {
      "text/html": [
       "<div>\n",
       "<style scoped>\n",
       "    .dataframe tbody tr th:only-of-type {\n",
       "        vertical-align: middle;\n",
       "    }\n",
       "\n",
       "    .dataframe tbody tr th {\n",
       "        vertical-align: top;\n",
       "    }\n",
       "\n",
       "    .dataframe thead th {\n",
       "        text-align: right;\n",
       "    }\n",
       "</style>\n",
       "<table border=\"1\" class=\"dataframe\">\n",
       "  <thead>\n",
       "    <tr style=\"text-align: right;\">\n",
       "      <th></th>\n",
       "      <th>Ticker</th>\n",
       "      <th>Security</th>\n",
       "    </tr>\n",
       "    <tr>\n",
       "      <th>Date</th>\n",
       "      <th></th>\n",
       "      <th></th>\n",
       "    </tr>\n",
       "  </thead>\n",
       "  <tbody>\n",
       "    <tr>\n",
       "      <th>2024-06-24</th>\n",
       "      <td>RHI</td>\n",
       "      <td>Robert Half</td>\n",
       "    </tr>\n",
       "    <tr>\n",
       "      <th>2024-06-24</th>\n",
       "      <td>CMA</td>\n",
       "      <td>Comerica</td>\n",
       "    </tr>\n",
       "    <tr>\n",
       "      <th>2024-06-24</th>\n",
       "      <td>ILMN</td>\n",
       "      <td>Illumina, Inc.</td>\n",
       "    </tr>\n",
       "    <tr>\n",
       "      <th>2024-05-08</th>\n",
       "      <td>PXD</td>\n",
       "      <td>Pioneer Natural Resources</td>\n",
       "    </tr>\n",
       "    <tr>\n",
       "      <th>2024-04-03</th>\n",
       "      <td>XRAY</td>\n",
       "      <td>Dentsply Sirona</td>\n",
       "    </tr>\n",
       "    <tr>\n",
       "      <th>...</th>\n",
       "      <td>...</td>\n",
       "      <td>...</td>\n",
       "    </tr>\n",
       "    <tr>\n",
       "      <th>2019-04-02</th>\n",
       "      <td>BHF</td>\n",
       "      <td>Brighthouse Financial</td>\n",
       "    </tr>\n",
       "    <tr>\n",
       "      <th>2019-02-27</th>\n",
       "      <td>GT</td>\n",
       "      <td>The Goodyear Tire &amp; Rubber Company</td>\n",
       "    </tr>\n",
       "    <tr>\n",
       "      <th>2019-02-15</th>\n",
       "      <td>NFX</td>\n",
       "      <td>Newfield Exploration</td>\n",
       "    </tr>\n",
       "    <tr>\n",
       "      <th>2019-01-18</th>\n",
       "      <td>PCG</td>\n",
       "      <td>Pacific Gas &amp; Electric Company</td>\n",
       "    </tr>\n",
       "    <tr>\n",
       "      <th>2019-01-02</th>\n",
       "      <td>SCG</td>\n",
       "      <td>SCANA</td>\n",
       "    </tr>\n",
       "  </tbody>\n",
       "</table>\n",
       "<p>98 rows × 2 columns</p>\n",
       "</div>"
      ],
      "text/plain": [
       "           Ticker                            Security\n",
       "Date                                                 \n",
       "2024-06-24    RHI                         Robert Half\n",
       "2024-06-24    CMA                            Comerica\n",
       "2024-06-24   ILMN                      Illumina, Inc.\n",
       "2024-05-08    PXD           Pioneer Natural Resources\n",
       "2024-04-03   XRAY                     Dentsply Sirona\n",
       "...           ...                                 ...\n",
       "2019-04-02    BHF               Brighthouse Financial\n",
       "2019-02-27     GT  The Goodyear Tire & Rubber Company\n",
       "2019-02-15    NFX                Newfield Exploration\n",
       "2019-01-18    PCG      Pacific Gas & Electric Company\n",
       "2019-01-02    SCG                               SCANA\n",
       "\n",
       "[98 rows x 2 columns]"
      ]
     },
     "execution_count": 27,
     "metadata": {},
     "output_type": "execute_result"
    }
   ],
   "source": []
  },
  {
   "cell_type": "code",
   "execution_count": null,
   "id": "aa768658-2f57-45a4-8286-2c68e40d0f0d",
   "metadata": {},
   "outputs": [],
   "source": []
  }
 ],
 "metadata": {
  "kernelspec": {
   "display_name": "Python 3 (ipykernel)",
   "language": "python",
   "name": "python3"
  },
  "language_info": {
   "codemirror_mode": {
    "name": "ipython",
    "version": 3
   },
   "file_extension": ".py",
   "mimetype": "text/x-python",
   "name": "python",
   "nbconvert_exporter": "python",
   "pygments_lexer": "ipython3",
   "version": "3.11.7"
  }
 },
 "nbformat": 4,
 "nbformat_minor": 5
}
