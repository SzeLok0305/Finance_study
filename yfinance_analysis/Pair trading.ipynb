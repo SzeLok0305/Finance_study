{
 "cells": [
  {
   "cell_type": "code",
   "execution_count": 1,
   "id": "6c8b5784-2844-4ca8-bb93-f84059666486",
   "metadata": {},
   "outputs": [],
   "source": [
    "import yfinance as yf\n",
    "import numpy as np\n",
    "import pandas as pd\n",
    "from matplotlib import pyplot as plt\n",
    "import seaborn as sns\n",
    "import pandas_datareader as pdr\n",
    "import pandas_market_calendars as mcal\n",
    "import datetime\n",
    "from scipy import stats\n",
    "from statsmodels.tsa.stattools import coint"
   ]
  },
  {
   "cell_type": "code",
   "execution_count": 90,
   "id": "b3f511b2-312d-425d-9420-a422635bbeac",
   "metadata": {},
   "outputs": [
    {
     "name": "stderr",
     "output_type": "stream",
     "text": [
      "[*********************100%%**********************]  10 of 10 completed\n"
     ]
    }
   ],
   "source": [
    "# Date and Time\n",
    "end_date = datetime.date.today()\n",
    "start_date = end_date - datetime.timedelta(days=365)\n",
    "nyse = mcal.get_calendar('NYSE')\n",
    "valid_dates = nyse.valid_days(start_date=start_date, end_date =end_date)\n",
    "valid_start_day = valid_dates[0].date()\n",
    "valid_end_day = valid_dates[-1].date()\n",
    "\n",
    "SMH_top_10_tickers = ['NVDA', 'TSM', 'AVGO', 'TXN', 'AMD', 'ASML', 'ADI','AMAT','QCOM','KLAC'] #Tech-sector\n",
    "\n",
    "# Download data\n",
    "df = yf.download(SMH_top_10_tickers, start=valid_start_day)['Adj Close']\n",
    "df = df.dropna(axis=1, how='any')"
   ]
  },
  {
   "cell_type": "code",
   "execution_count": 92,
   "id": "6afdc2a0-391b-4e39-9120-18130b67bfaf",
   "metadata": {},
   "outputs": [],
   "source": [
    "# Split data\n",
    "def Log_return(df): # We use log return as the time series instead of the stock itself (got more nicer properties!)\n",
    "    return np.log(df/df.shift(1)).dropna()\n",
    "TT_split = 0.98 #you need constant update so Train-test split must be large to see good result\n",
    "\n",
    "Train_df = df[:int(len(df)*TT_split)]\n",
    "Train_df_return = Log_return(Train_df)\n",
    "\n",
    "Test_df = df[int(len(df)*TT_split):]"
   ]
  },
  {
   "cell_type": "code",
   "execution_count": 94,
   "id": "e609a9e9-2c80-4886-8720-4946839ae422",
   "metadata": {},
   "outputs": [],
   "source": [
    "def find_cointegrated_pairs(df):\n",
    "    n = df.shape[1]\n",
    "    score_matrix = np.zeros((n, n))\n",
    "    pvalue_matrix = np.ones((n, n))\n",
    "    keys = df.keys()\n",
    "    pairs = []\n",
    "    for i in range(n):\n",
    "        for j in range(i+1, n):\n",
    "            S1 = df[keys[i]]\n",
    "            S2 = df[keys[j]]\n",
    "            result = coint(S1, S2) # return: Test Statistic, P-value, Critical Values\n",
    "            score = result[0]\n",
    "            pvalue = result[1]\n",
    "            score_matrix[i, j] = score\n",
    "            pvalue_matrix[i, j] = pvalue\n",
    "            if pvalue < 0.01:\n",
    "                pairs.append([keys[i], keys[j]])\n",
    "    return score_matrix, pvalue_matrix, pairs\n",
    "\n",
    "def calculate_spread_zscore(pair, df, window):\n",
    "    stock1 = df[pair[0]]\n",
    "    stock2 = df[pair[1]]\n",
    "    spread = stock1 - stock2\n",
    "    zscore = (spread - spread.rolling(window=window).mean()) / spread.rolling(window=window).std()\n",
    "    return zscore"
   ]
  },
  {
   "cell_type": "code",
   "execution_count": 96,
   "id": "07df7c66-2b7f-4b8c-aa39-99e1568f6faa",
   "metadata": {},
   "outputs": [
    {
     "name": "stdout",
     "output_type": "stream",
     "text": [
      "Found 45 cointegrated pairs:\n"
     ]
    }
   ],
   "source": [
    "# Calculate rolling z\n",
    "z_score_window = 20\n",
    "\n",
    "# Find cointegrated pairs\n",
    "score_matrix, pvalue_matrix, cointegrated_pairs = find_cointegrated_pairs(Train_df_return)\n",
    "\n",
    "print(f\"Found {len(cointegrated_pairs)} cointegrated pairs:\")"
   ]
  },
  {
   "cell_type": "code",
   "execution_count": 97,
   "id": "90307117-43d7-4570-8a8d-55879c893267",
   "metadata": {},
   "outputs": [],
   "source": [
    "def backtest(df,TT_split,pairs,z_score_window,z_entry,z_exit):\n",
    "    Train_len = int(len(df)*(TT_split))\n",
    "    Test_position = pd.DataFrame().reindex_like(df[Train_len:])\n",
    "    Test_position[:] = 0\n",
    "    Transaction_cost = 2 #USD per transaction\n",
    "    \n",
    "    for i, pair in enumerate(pairs):\n",
    "        zscores = calculate_spread_zscore(pair,df,z_score_window)[Train_len:]\n",
    "        assert len(zscores) == len(df)-Train_len #For debug\n",
    "        position = 0\n",
    "        \n",
    "        for j in range(len(zscores)):\n",
    "            j_adj = Train_len + j #trasnlate j into df loction\n",
    "            assert df.index[j_adj] == Test_position.index[j] #Make sure we are looking at the same day\n",
    "            if position == 0:\n",
    "                if zscores.iloc[j] > z_entry: # Short the spread: Sell S1 buy S2\n",
    "                    position = -1\n",
    "                    Test_position[pair[0]].iloc[j] += df[pair[0]].iloc[j_adj] - Transaction_cost #sell = gain money\n",
    "                    Test_position[pair[1]].iloc[j] -= df[pair[1]].iloc[j_adj] - Transaction_cost #buy = use money\n",
    "                elif zscores.iloc[j] < -z_entry: # Long the spread: Buy S1 sell S2\n",
    "                    position = 1\n",
    "                    Test_position[pair[0]].iloc[j] -= df[pair[0]].iloc[j_adj] - Transaction_cost\n",
    "                    Test_position[pair[1]].iloc[j] += df[pair[1]].iloc[j_adj] - Transaction_cost\n",
    "                    \n",
    "            elif position == -1:\n",
    "                if zscores.iloc[j] < z_exit: # Exit short position: Buy back S1 and sell all S2\n",
    "                    position = 0\n",
    "                    Test_position[pair[0]].iloc[j] -= df[pair[0]].iloc[j_adj] - Transaction_cost\n",
    "                    Test_position[pair[1]].iloc[j] += df[pair[1]].iloc[j_adj] - Transaction_cost\n",
    "                    \n",
    "            elif position == 1:\n",
    "                if zscores.iloc[j] > -z_exit: # Exit long position: Sell all S1 and Buy back S2\n",
    "                    position = 0\n",
    "                    Test_position[pair[0]].iloc[j] += df[pair[0]].iloc[j_adj] - Transaction_cost\n",
    "                    Test_position[pair[1]].iloc[j] -= df[pair[1]].iloc[j_adj] - Transaction_cost\n",
    "                    \n",
    "    return Test_position  \n",
    "T_run = backtest(df,TT_split,cointegrated_pairs,z_score_window,2,0)"
   ]
  },
  {
   "cell_type": "code",
   "execution_count": 100,
   "id": "aef37487-14e7-4510-80a0-469e78196cde",
   "metadata": {},
   "outputs": [
    {
     "data": {
      "text/plain": [
       "<Axes: title={'center': 'Portfolio worth'}, xlabel='Date', ylabel='USD'>"
      ]
     },
     "execution_count": 100,
     "metadata": {},
     "output_type": "execute_result"
    },
    {
     "data": {
      "image/png": "[encoded data removed]",
      "text/plain": [
       "<Figure size 640x480 with 1 Axes>"
      ]
     },
     "metadata": {},
     "output_type": "display_data"
    }
   ],
   "source": [
    "Portfolio = T_run.sum(axis=1).cumsum()\n",
    "Portfolio.plot(ylabel='USD',title='Portfolio worth',label=\"Total\")"
   ]
  },
  {
   "cell_type": "code",
   "execution_count": 102,
   "id": "bb48a0d2-2d68-4d55-8c11-c551ec4cad24",
   "metadata": {},
   "outputs": [
    {
     "name": "stdout",
     "output_type": "stream",
     "text": [
      "Final profit is 108.24 USD\n",
      "Max risk is -101.93 USD\n",
      "Profit to risk ratio: -1.06\n"
     ]
    }
   ],
   "source": [
    "Profit_final = Portfolio.iloc[-1]\n",
    "max_risk = min(Portfolio)\n",
    "print(f\"Final profit is {Profit_final:.2f} USD\")\n",
    "print(f\"Max risk is {max_risk:.2f} USD\")\n",
    "print(f'Profit to risk ratio: {Profit_final/max_risk:.2f}')"
   ]
  },
  {
   "cell_type": "code",
   "execution_count": null,
   "id": "671a2787-1f27-4dcd-9415-c39950f95804",
   "metadata": {},
   "outputs": [],
   "source": []
  }
 ],
 "metadata": {
  "kernelspec": {
   "display_name": "Python 3 (ipykernel)",
   "language": "python",
   "name": "python3"
  },
  "language_info": {
   "codemirror_mode": {
    "name": "ipython",
    "version": 3
   },
   "file_extension": ".py",
   "mimetype": "text/x-python",
   "name": "python",
   "nbconvert_exporter": "python",
   "pygments_lexer": "ipython3",
   "version": "3.11.7"
  }
 },
 "nbformat": 4,
 "nbformat_minor": 5
}
