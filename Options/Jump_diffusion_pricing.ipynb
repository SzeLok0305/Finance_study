{
 "cells": [
  {
   "cell_type": "code",
   "execution_count": 10,
   "id": "81b6970f-3f89-467d-affc-b718222e5454",
   "metadata": {},
   "outputs": [],
   "source": [
    "import numpy as np\n",
    "import matplotlib.pyplot as plt"
   ]
  },
  {
   "cell_type": "code",
   "execution_count": 4,
   "id": "efb5e780-87a8-4398-ba31-8871a85b738f",
   "metadata": {},
   "outputs": [],
   "source": [
    "def jump_diffusion_simulation(S0, r, q, sigma, lambda_j, mu_j, sigma_j, T, N, num_sims):\n",
    "    #Model: dS = (r-q) * S * dt + sigma * S * dW + S * dN(lambda_j) * dJ(mu_j,sigma_j)\n",
    "    # Remember to use ito calculus  !!!!!!!\n",
    "    dt = T / N\n",
    "    paths = np.zeros((num_sims, N+1))\n",
    "    paths[:, 0] = S0\n",
    "    \n",
    "    for i in range(1, N+1):\n",
    "# The solution take the form: S_t = S_0 * exp( (r - q - 1/2 * sigma^2) * t + sigma * Normal(0,sqrt(t)) + Poisson(lambda_j * dt) * Normal(mu_j,sigma_j) )\n",
    "        \n",
    "        # Diffusion component\n",
    "        dW = np.random.normal(0, np.sqrt(dt), num_sims)\n",
    "        diffusion = (r - q - 0.5 * sigma**2) * dt + sigma * dW\n",
    "        \n",
    "        # Jump component\n",
    "        dN = np.random.poisson(lambda_j * dt, num_sims)\n",
    "        J = np.random.normal(mu_j, sigma_j, num_sims)\n",
    "        jump = J * dN\n",
    "        \n",
    "        #Combine\n",
    "        paths[:, i] = paths[:, i-1] * np.exp(diffusion + jump)\n",
    "        \n",
    "    return paths"
   ]
  },
  {
   "cell_type": "code",
   "execution_count": 131,
   "id": "f44fd807-1b77-4624-ac41-1e17b78fe610",
   "metadata": {},
   "outputs": [
    {
     "name": "stdout",
     "output_type": "stream",
     "text": [
      "Option Price: 16.1001\n",
      "Standard Error: 0.1051\n",
      "Probability of S > K: 0.9254\n"
     ]
    }
   ],
   "source": [
    "def Option_pricing(Spot, Strike, T, r, q, sigma, lambda_j, mu_j, sigma_j, num_sims, option_type='call'):\n",
    "    # Simulate stock price paths\n",
    "    N = int(T*252)\n",
    "    paths = jump_diffusion_simulation(Spot, r, q, sigma, lambda_j, mu_j, sigma_j, T, N, num_sims)\n",
    "    \n",
    "    # Calculate terminal stock prices\n",
    "    S_T = paths[:, -1]\n",
    "    \n",
    "    # Calculate payoffs\n",
    "    if option_type == 'call':\n",
    "        payoffs = np.maximum(S_T - Strike, 0)\n",
    "        Probability = np.mean(S_T > Strike)\n",
    "    elif option_type == 'put':\n",
    "        payoffs = np.maximum(Strike - S_T, 0)\n",
    "        Probability = np.mean(S_T < Strike)\n",
    "    else:\n",
    "        print('Choose the either call or put, thank you.')\n",
    "        return\n",
    "\n",
    "    \n",
    "    # Calculate option price\n",
    "    option_price = np.exp(-r * T) * np.mean(payoffs)\n",
    "    \n",
    "    # Calculate standard error\n",
    "    option_se = np.exp(-r * T) * np.std(payoffs) / np.sqrt(num_sims)\n",
    "    \n",
    "    return option_price, option_se, Probability\n",
    "\n",
    "# Example usage:\n",
    "Spot = 100\n",
    "Strike = 120\n",
    "T = 1\n",
    "r = 0.05\n",
    "q = 0.02\n",
    "sigma = 0.1\n",
    "lambda_j = 0.1\n",
    "mu_j = 0.05\n",
    "sigma_j = 0.1\n",
    "num_sims = 2**13\n",
    "price, se, prob = Option_pricing(Spot, Strike, T, r, q, sigma, lambda_j, mu_j, sigma_j, num_sims, option_type='put')\n",
    "print(f\"Option Price: {price:.4f}\")\n",
    "print(f\"Standard Error: {se:.4f}\")\n",
    "print(f\"Probability of S > K: {prob:.4f}\")"
   ]
  },
  {
   "cell_type": "code",
   "execution_count": null,
   "id": "7f5201b3-ca5e-4103-a542-849f8d810572",
   "metadata": {},
   "outputs": [],
   "source": []
  }
 ],
 "metadata": {
  "kernelspec": {
   "display_name": "Python 3 (ipykernel)",
   "language": "python",
   "name": "python3"
  },
  "language_info": {
   "codemirror_mode": {
    "name": "ipython",
    "version": 3
   },
   "file_extension": ".py",
   "mimetype": "text/x-python",
   "name": "python",
   "nbconvert_exporter": "python",
   "pygments_lexer": "ipython3",
   "version": "3.11.7"
  }
 },
 "nbformat": 4,
 "nbformat_minor": 5
}
